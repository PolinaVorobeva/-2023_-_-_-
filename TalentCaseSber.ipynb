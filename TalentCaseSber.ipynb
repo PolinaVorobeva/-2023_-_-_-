{
 "cells": [
  {
   "cell_type": "code",
   "execution_count": 1,
   "id": "aa88f5dc",
   "metadata": {},
   "outputs": [],
   "source": [
    "import pandas as pd\n",
    "import numpy as np\n",
    "import json\n",
    "import pymorphy2\n",
    "import warnings\n",
    "warnings.filterwarnings('ignore')\n",
    "import enchant"
   ]
  },
  {
   "cell_type": "markdown",
   "id": "38387165",
   "metadata": {},
   "source": [
    "## Шаг 0. Загрузка пакетов\n",
    "\n",
    "В решении используется библиотека `enchant`. Она используется для проверки слов на спеллинг, и, как следствие, необходима для проверки слов на опечатки. Тем неменее, ее подгрузка и установка предполагает дополнительные хитрые действия. Чтобы библиотека подружилась с русским языком, в её структуру необходимо подгрузить два файла: ru_RU.aff, ru_RU.dic. [Например отсюда](https://github.com/LibreOffice/dictionaries/blob/master/ru_RU/ru_RU.dic). Эти файлы необходимо положить внутрь папок библиотеки к другим словарям, которые там уже есть. Для наглядности, можно посмотреть вот [сюда](https://vc.ru/dev/174452-kak-proverit-pravopisanie-s-pomoshch-python-pyenchant) Из этого следует, что решение доступно для запуска на локальном компьютере, но не на сервере (да, google colab, про тебя говорим), так как добраться до места хранения файлов в виртуальной машине проблематично.\n",
    "\n",
    "В моем случае, файлы необходимо было вложить вот сюда: `C:\\вставьте свою путь дальше, до папки, куда скачиваются библиотеки\\enchant\\data\\mingw64\\share\\enchant\\hunspell`"
   ]
  },
  {
   "cell_type": "code",
   "execution_count": 2,
   "id": "98cb7fc9",
   "metadata": {},
   "outputs": [],
   "source": [
    "from pymorphy2 import MorphAnalyzer\n",
    "morph = MorphAnalyzer()\n",
    "\n",
    "dictionary_big = enchant.Dict('ru_RU')"
   ]
  },
  {
   "cell_type": "markdown",
   "id": "f2f4e1f5",
   "metadata": {},
   "source": [
    "## Шаг 0.5. Подгружаем данные из задания"
   ]
  },
  {
   "cell_type": "code",
   "execution_count": 3,
   "id": "058952bc",
   "metadata": {},
   "outputs": [],
   "source": [
    "# Подгружаем данный в задании файл\n",
    "with open('sample.json', 'r', encoding='UTF-8') as f:\n",
    "    jj_list = json.load(f)\n",
    "    \n",
    "data = pd.DataFrame(columns = ['id', 'text'])\n",
    "\n",
    "for js in jj_list:\n",
    "    data = data.append(js, ignore_index = True)"
   ]
  },
  {
   "cell_type": "markdown",
   "id": "1bbfc374",
   "metadata": {},
   "source": [
    "## Шаг 0.7 Полезные функции\n",
    "\n",
    "Создаем пайплайн обработки текстовых данных, чтобы на выходе получились тексты для алгоритмической работы с текстом и последующей кластеризации"
   ]
  },
  {
   "cell_type": "code",
   "execution_count": 4,
   "id": "9e9c72b5",
   "metadata": {},
   "outputs": [],
   "source": [
    "\"\"\"\n",
    "Функция для поиска имен собственных в тексте. Заметим, что здесь игнорируются те слова, которые начинают предложения/\n",
    "Исходя из предположения, что в данных находятся несколько предложений, подвергшихся рерайтингу, и использованию в них\n",
    "одних и тех же слов (в том числе имен собственных), исследовательская группа предполагает, что систематический неучет\n",
    "слов, начинающих предложения, не будет существенным недочетом. Однако, можем отметить, что данное ограничение для модели\n",
    "нуждается в более гибкой обработке и улучшении\n",
    "\n",
    "\"\"\"\n",
    "\n",
    "def find_names(TEXT_SERIES, names):\n",
    "    all_names = set()\n",
    "    for string in TEXT_SERIES.str.split(' '):\n",
    "        names = [i for i in string if i[:1].isupper()]\n",
    "        for n in names[1:]:\n",
    "            all_names.add(morph.normal_forms(n.lower())[0])\n",
    "    return all_names"
   ]
  },
  {
   "cell_type": "code",
   "execution_count": 5,
   "id": "dde9699c",
   "metadata": {},
   "outputs": [],
   "source": [
    "def preprocessing_texts(df_PRACTISE):\n",
    "    # Обрабатываем тексты\n",
    "    df_PRACTISE['text'] = df_PRACTISE['text'].str.lower().replace('\\n', ' ', regex = False).str.replace(r'[^\\w\\s\\-]+', '', regex=True).str.strip()\n",
    "    # Удаляем получившиеся полностью пустые комментарии, они нам все равно не помогут\n",
    "    df_PRACTISE = df_PRACTISE[df_PRACTISE['text'].astype(bool) == True]\n",
    "    # Удаляем пропуски в колонке тексте\n",
    "    df_PRACTISE.dropna(subset=['text'], inplace=True)\n",
    "    return df_PRACTISE"
   ]
  },
  {
   "cell_type": "code",
   "execution_count": 6,
   "id": "ff77ed12",
   "metadata": {},
   "outputs": [],
   "source": [
    "# Функция для создания нормализации слов, которые не являются именами собственными\n",
    "\n",
    "def normalize(TEXT_SERIES):\n",
    "    text_series = TEXT_SERIES\n",
    "    i = 0\n",
    "    for string in TEXT_SERIES.str.split(' '):\n",
    "        clean_text = []\n",
    "        for word in string:\n",
    "            if (word not in all_names):\n",
    "                word = morph.normal_forms(word)[0]\n",
    "            clean_text.append(word)\n",
    "        text = \" \".join(x for x in clean_text)\n",
    "        text_series.iloc[i] = text\n",
    "        i = i + 1\n",
    "    return text_series"
   ]
  },
  {
   "cell_type": "code",
   "execution_count": 7,
   "id": "1392a158",
   "metadata": {},
   "outputs": [],
   "source": [
    "\"\"\"\n",
    "Функция для создания словаря тех слов, которые встречаются в данных.\n",
    "Из словаря исключены слова собственные, так как они могут быть ошибочно причисленны к словам с опечатками\n",
    "\"\"\" \n",
    "\n",
    "def create_dictionary(text_series, d):\n",
    "    for string in text_series.str.split(' '):\n",
    "        for word in string:\n",
    "            if (word not in all_names):\n",
    "                d.add(word)\n",
    "    return d"
   ]
  },
  {
   "cell_type": "markdown",
   "id": "fcb1037f",
   "metadata": {},
   "source": [
    "## Шаг 1. Предобработка данных. Поиск и замена опечаток."
   ]
  },
  {
   "cell_type": "code",
   "execution_count": 8,
   "id": "b0d05cd2",
   "metadata": {},
   "outputs": [],
   "source": [
    "# Определяем тип предложения исходя из оканчивающего его знака препинания\n",
    "data['type'] = data['text'].apply(lambda x: x[-1])"
   ]
  },
  {
   "cell_type": "code",
   "execution_count": 9,
   "id": "05b01fef",
   "metadata": {},
   "outputs": [],
   "source": [
    "data = preprocessing_texts(data)"
   ]
  },
  {
   "cell_type": "code",
   "execution_count": 10,
   "id": "6787af88",
   "metadata": {},
   "outputs": [],
   "source": [
    "all_names = set()\n",
    "all_names = find_names(data['text'], all_names)"
   ]
  },
  {
   "cell_type": "code",
   "execution_count": 11,
   "id": "c1567931",
   "metadata": {},
   "outputs": [],
   "source": [
    "data['norm_text'] = data['text'] #создание дополнительной колонки с текстом, состоящих из нормализованных слов\n",
    "data['norm_text'] = normalize(data['norm_text'])"
   ]
  },
  {
   "cell_type": "code",
   "execution_count": 12,
   "id": "f341e311",
   "metadata": {},
   "outputs": [],
   "source": [
    "\"\"\"\n",
    "Функция для подбора правильно написанных слов из словаря. Исследовательская группа посчитала, что сравнение со словарем,\n",
    "созданном на основе исходных данных достаточно, так как слова с ошибками -- производные из существующих (и свидетельствуют\n",
    "о наличии рерайтинга). Заметим, что в созданном словаре сейчас также находятся слова с ошибками.\n",
    "Поэтому, при подборе правильного слово на место слова с опечаткой мы выбираем слово со вторым минимальным \n",
    "расстоняием Ливенштейна (справедливо, что это будет первое ненулевое значение в массиве).\n",
    "\"\"\"\n",
    "def top_levenshtain(word, dictionary):\n",
    "    top = pd.DataFrame(columns = ['word_from_dict','lev_dist'])\n",
    "    for w in dictionary:\n",
    "        llev = enchant.utils.levenshtein(word, w)\n",
    "        top = top.append({'word_from_dict' : w, 'lev_dist': llev}, ignore_index=True)\n",
    "    top = top.sort_values(by=['lev_dist'])\n",
    "    ww = top.iloc[1]['word_from_dict']\n",
    "    return ww"
   ]
  },
  {
   "cell_type": "code",
   "execution_count": 13,
   "id": "adca3bde",
   "metadata": {},
   "outputs": [],
   "source": [
    "# Замена слов с опечатками в исходных текстах. Заметим, что слова сразу заменяются на нормализированную форму\n",
    "def change_words(TEXT_SERIES):\n",
    "    text_series = TEXT_SERIES\n",
    "    i = 0\n",
    "    for string in TEXT_SERIES.str.split(' '):\n",
    "        clean_text = []\n",
    "        for word in string:\n",
    "            if (word in mistakes and word not in all_names):\n",
    "                word = correct[word]\n",
    "            clean_text.append(word)\n",
    "        text = \" \".join(x for x in clean_text)\n",
    "        text_series.iloc[i] = text\n",
    "        i = i + 1\n",
    "    return text_series"
   ]
  },
  {
   "cell_type": "code",
   "execution_count": 14,
   "id": "e1b482f0",
   "metadata": {},
   "outputs": [],
   "source": [
    "def detect_mistakes(data):\n",
    "    dictionary = set()\n",
    "    dictionary = create_dictionary(data['norm_text'], dictionary)\n",
    "    \n",
    "    # Создание списка слов с опечатками\n",
    "    mistakes = []\n",
    "    for i in dictionary:\n",
    "        if not dictionary_big.check(i):\n",
    "            mistakes.append(i)\n",
    "            \n",
    "    # Для удобного обращения, создаем хэш-таблицу, чтобы быстро заменять слова с опечаткой на корректное написнаие.\n",
    "    correct = dict()\n",
    "    for m in mistakes:\n",
    "        ww = top_levenshtain(m, dictionary)\n",
    "        correct[m] = ww\n",
    "        \n",
    "    return dictionary, mistakes, correct"
   ]
  },
  {
   "cell_type": "code",
   "execution_count": 15,
   "id": "a531d159",
   "metadata": {},
   "outputs": [],
   "source": [
    "dictionary, mistakes, correct = detect_mistakes(data)\n",
    "\n",
    "data['text'] = change_words(data['text'])\n",
    "data['norm_text'] = change_words(data['norm_text'])"
   ]
  },
  {
   "cell_type": "markdown",
   "id": "bda3a7e1",
   "metadata": {},
   "source": [
    "### Слово об обработанном тексте\n",
    "\n",
    "Дальнейшая работа с текстом будет происходить с помощью колонки `norm_text`. Несмотря на то, что 100% гарантии, что алгоритм отработал корректно нет, нам следует принять эти ограничения. Будем считать, что пока мы с машинами за одно.\n",
    "![Мем в тему](http://memesmix.net/media/created/ucq1yp.jpg)"
   ]
  },
  {
   "cell_type": "code",
   "execution_count": 16,
   "id": "6895108f",
   "metadata": {},
   "outputs": [
    {
     "data": {
      "text/html": [
       "<div>\n",
       "<style scoped>\n",
       "    .dataframe tbody tr th:only-of-type {\n",
       "        vertical-align: middle;\n",
       "    }\n",
       "\n",
       "    .dataframe tbody tr th {\n",
       "        vertical-align: top;\n",
       "    }\n",
       "\n",
       "    .dataframe thead th {\n",
       "        text-align: right;\n",
       "    }\n",
       "</style>\n",
       "<table border=\"1\" class=\"dataframe\">\n",
       "  <thead>\n",
       "    <tr style=\"text-align: right;\">\n",
       "      <th></th>\n",
       "      <th>id</th>\n",
       "      <th>text</th>\n",
       "      <th>type</th>\n",
       "      <th>norm_text</th>\n",
       "    </tr>\n",
       "  </thead>\n",
       "  <tbody>\n",
       "    <tr>\n",
       "      <th>0</th>\n",
       "      <td>1</td>\n",
       "      <td>ты нашёл их или нет</td>\n",
       "      <td>?</td>\n",
       "      <td>ты найти они или нет</td>\n",
       "    </tr>\n",
       "    <tr>\n",
       "      <th>1</th>\n",
       "      <td>2</td>\n",
       "      <td>почему она так со мной поступает</td>\n",
       "      <td>?</td>\n",
       "      <td>почему она так с я поступать</td>\n",
       "    </tr>\n",
       "    <tr>\n",
       "      <th>2</th>\n",
       "      <td>3</td>\n",
       "      <td>никто туда больше не ходит</td>\n",
       "      <td>.</td>\n",
       "      <td>никто туда большой не ходить</td>\n",
       "    </tr>\n",
       "    <tr>\n",
       "      <th>3</th>\n",
       "      <td>4</td>\n",
       "      <td>у него с собой не было тогда денег</td>\n",
       "      <td>.</td>\n",
       "      <td>у он с себя не быть тогда деньга</td>\n",
       "    </tr>\n",
       "    <tr>\n",
       "      <th>4</th>\n",
       "      <td>5</td>\n",
       "      <td>почему они с нами так поступают</td>\n",
       "      <td>?</td>\n",
       "      <td>почему они с мы так поступать</td>\n",
       "    </tr>\n",
       "    <tr>\n",
       "      <th>...</th>\n",
       "      <td>...</td>\n",
       "      <td>...</td>\n",
       "      <td>...</td>\n",
       "      <td>...</td>\n",
       "    </tr>\n",
       "    <tr>\n",
       "      <th>407</th>\n",
       "      <td>408</td>\n",
       "      <td>рому было нечего сказать</td>\n",
       "      <td>.</td>\n",
       "      <td>рома быть нечего сказать</td>\n",
       "    </tr>\n",
       "    <tr>\n",
       "      <th>408</th>\n",
       "      <td>409</td>\n",
       "      <td>том ещё нас не видел</td>\n",
       "      <td>.</td>\n",
       "      <td>тот ещё мы не видеть</td>\n",
       "    </tr>\n",
       "    <tr>\n",
       "      <th>409</th>\n",
       "      <td>410</td>\n",
       "      <td>мы должны всем им помочь</td>\n",
       "      <td>.</td>\n",
       "      <td>мы должный весь они помочь</td>\n",
       "    </tr>\n",
       "    <tr>\n",
       "      <th>410</th>\n",
       "      <td>411</td>\n",
       "      <td>чего ты свой нос повсюду суёшь</td>\n",
       "      <td>?</td>\n",
       "      <td>что ты свой нос повсюду совать</td>\n",
       "    </tr>\n",
       "    <tr>\n",
       "      <th>411</th>\n",
       "      <td>412</td>\n",
       "      <td>мы ни дня не можем прожить без воды</td>\n",
       "      <td>.</td>\n",
       "      <td>мы ни день не мочь прожить без вода</td>\n",
       "    </tr>\n",
       "  </tbody>\n",
       "</table>\n",
       "<p>412 rows × 4 columns</p>\n",
       "</div>"
      ],
      "text/plain": [
       "      id                                 text type  \\\n",
       "0      1                  ты нашёл их или нет    ?   \n",
       "1      2     почему она так со мной поступает    ?   \n",
       "2      3           никто туда больше не ходит    .   \n",
       "3      4   у него с собой не было тогда денег    .   \n",
       "4      5      почему они с нами так поступают    ?   \n",
       "..   ...                                  ...  ...   \n",
       "407  408             рому было нечего сказать    .   \n",
       "408  409                 том ещё нас не видел    .   \n",
       "409  410             мы должны всем им помочь    .   \n",
       "410  411       чего ты свой нос повсюду суёшь    ?   \n",
       "411  412  мы ни дня не можем прожить без воды    .   \n",
       "\n",
       "                               norm_text  \n",
       "0                   ты найти они или нет  \n",
       "1           почему она так с я поступать  \n",
       "2           никто туда большой не ходить  \n",
       "3       у он с себя не быть тогда деньга  \n",
       "4          почему они с мы так поступать  \n",
       "..                                   ...  \n",
       "407             рома быть нечего сказать  \n",
       "408                 тот ещё мы не видеть  \n",
       "409           мы должный весь они помочь  \n",
       "410       что ты свой нос повсюду совать  \n",
       "411  мы ни день не мочь прожить без вода  \n",
       "\n",
       "[412 rows x 4 columns]"
      ]
     },
     "execution_count": 16,
     "metadata": {},
     "output_type": "execute_result"
    }
   ],
   "source": [
    "data"
   ]
  },
  {
   "cell_type": "markdown",
   "id": "a860904c",
   "metadata": {},
   "source": [
    "Заметим, что из классического джентльменского набора предобработки текстов исключен этап удаления стоп-слов. Это было сделано по нескольким причинам. Во-первых, такие слова скорее будут свидетельствовать о схожести текстов между собой из-за специфики полученных в задании данных. Во-вторых, данные предложения достаточно короткие сами по себе, так что надобности сократить их ещё больше -- нет.\n",
    "\n",
    "Другая проблема состоит в том, что в них достаточно много похожих слов, которые не входит в стоп-список, но будут встречаться в различных не связанных между собой предложениях. Это могут быть не стоп-слова, а более специфичные. Решим эту проблему на следующем шаге."
   ]
  },
  {
   "cell_type": "markdown",
   "id": "a95850c3",
   "metadata": {},
   "source": [
    "## Шаг 2. Частотность слов"
   ]
  },
  {
   "cell_type": "code",
   "execution_count": null,
   "id": "2f5859fe",
   "metadata": {},
   "outputs": [],
   "source": [
    "from collections import Counter"
   ]
  },
  {
   "cell_type": "code",
   "execution_count": 17,
   "id": "36a7b59e",
   "metadata": {},
   "outputs": [],
   "source": [
    "# Замена слов с опечатками в исходных текстах. Заметим, что слова сразу заменяются на нормализированную форму\n",
    "def remove_common_words(TEXT_SERIES):\n",
    "    text_series = TEXT_SERIES\n",
    "    i = 0\n",
    "    for string in TEXT_SERIES.str.split(' '):\n",
    "        clean_text = []\n",
    "        for word in string:\n",
    "            if (word not in too_common):\n",
    "                clean_text.append(word)\n",
    "        text = \" \".join(x for x in clean_text)\n",
    "        text_series.iloc[i] = text\n",
    "        i = i + 1\n",
    "    return text_series"
   ]
  },
  {
   "cell_type": "code",
   "execution_count": 18,
   "id": "1ac7ca5c",
   "metadata": {},
   "outputs": [],
   "source": [
    "def makeSpecialData(data):\n",
    "    mostcommon = data.most_common()\n",
    "    special_data = pd.DataFrame({\n",
    "        'Word': [element[0] for element in mostcommon],\n",
    "        'Frequency': [element[1] for element in mostcommon]})\n",
    "    return special_data"
   ]
  },
  {
   "cell_type": "code",
   "execution_count": 19,
   "id": "74f67644",
   "metadata": {},
   "outputs": [],
   "source": [
    "#Подсчитываем частоту слов\n",
    "all_words = Counter()\n",
    "for string in data['norm_text']:\n",
    "    words = string.split(' ')\n",
    "    words_count = Counter(words)\n",
    "    all_words = all_words + words_count\n",
    "    \n",
    "# создаем из объекта counter датафрейм\n",
    "table_all = makeSpecialData(all_words)"
   ]
  },
  {
   "cell_type": "code",
   "execution_count": 20,
   "id": "e69332f9",
   "metadata": {},
   "outputs": [],
   "source": [
    "\"\"\"\n",
    "Берем первых 5% самых частых слов с целью очищения данных от них. Это необходимо, чтобы кластеризация прошла лучше:\n",
    "предложения, которые не являются рерайтингом, но имеющие общие слова будут объединяться в случайные кластеры\n",
    "с меньшей вероятностью.\n",
    "\n",
    "Количество этих слов варьируется. Предположительно: \n",
    "\"\"\"\n",
    "red_line = round(0.05*len(table_all))\n",
    "too_common = table_all.head(red_line)['Word'].to_list()"
   ]
  },
  {
   "cell_type": "code",
   "execution_count": 21,
   "id": "b6c1c06e",
   "metadata": {},
   "outputs": [
    {
     "name": "stdout",
     "output_type": "stream",
     "text": [
      "2254 1088 0.48269742679680566\n"
     ]
    }
   ],
   "source": [
    "all_ = table_all['Frequency'].sum()\n",
    "all_comm = table_all['Frequency'][:red_line].sum()\n",
    "\n",
    "print(all_, all_comm, all_comm/all_)"
   ]
  },
  {
   "cell_type": "code",
   "execution_count": 22,
   "id": "2ad3ce92",
   "metadata": {},
   "outputs": [],
   "source": [
    "\"\"\"\n",
    "Получаем текст, который подвергся следующей предобработке:\n",
    "1. Нормализация\n",
    "2. Замена опечаток\n",
    "3. Удаление самых частых слов\n",
    "\"\"\"\n",
    "\n",
    "data['norm_text'] = remove_common_words(data['norm_text'])"
   ]
  },
  {
   "cell_type": "code",
   "execution_count": 23,
   "id": "15ead195",
   "metadata": {},
   "outputs": [],
   "source": [
    "\"\"\"\n",
    "Получаем текст, который подвергся следующей предобработке:\n",
    "1. Замена опечаток\n",
    "2. Удаление самых частых слов\n",
    "\"\"\"\n",
    "data['unique_text'] = data['text']\n",
    "data['unique_text'] = remove_common_words(data['unique_text'])"
   ]
  },
  {
   "cell_type": "markdown",
   "id": "8034602f",
   "metadata": {},
   "source": [
    "Исходный текст, который содержится в колонке `data['text']` -- текст, в котором опечатки заменены на корректные слова\n",
    "\n",
    "## Шаг 2.5 TF-Idf\n",
    "\n",
    "В ходе анализа были построены различные варианты матрицы `Tf-idf`. Тексты различались по степени обработки (см. выше). Также были построены матрицы `Tf-idf`, использующие только униграммы (или отдельные слова) и униграммы с биграммами. Исследовательской группой было принято решение оставить исключительно второй вариант (с униграммами и биграммами), так как рерайтинг часто подразумевает использование тех же слов, но в другом порядке. "
   ]
  },
  {
   "cell_type": "code",
   "execution_count": 24,
   "id": "15e311ba",
   "metadata": {},
   "outputs": [],
   "source": [
    "from sklearn.feature_extraction.text import TfidfVectorizer\n",
    "from sklearn.cluster import KMeans, AffinityPropagation\n",
    "\n",
    "# Сделаем Tfidf матрицу по униграммам и биграммам\n",
    "tfidf_vectorizer_bigrams = TfidfVectorizer(ngram_range=(1, 2))\n",
    "\n",
    "# Применение TF-IDF к текстовым данным\n",
    "tfidf_bi_text = tfidf_vectorizer_bigrams.fit_transform(data['text'].to_list())\n",
    "tfidf_bi_norm = tfidf_vectorizer_bigrams.fit_transform(data['norm_text'].to_list())\n",
    "tfidf_bi_unique = tfidf_vectorizer_bigrams.fit_transform(data['unique_text'].to_list())"
   ]
  },
  {
   "cell_type": "code",
   "execution_count": 25,
   "id": "7bca73fe",
   "metadata": {},
   "outputs": [
    {
     "data": {
      "text/plain": [
       "(<412x1681 sparse matrix of type '<class 'numpy.float64'>'\n",
       " \twith 3627 stored elements in Compressed Sparse Row format>,\n",
       " <412x882 sparse matrix of type '<class 'numpy.float64'>'\n",
       " \twith 1857 stored elements in Compressed Sparse Row format>,\n",
       " <412x1453 sparse matrix of type '<class 'numpy.float64'>'\n",
       " \twith 2779 stored elements in Compressed Sparse Row format>)"
      ]
     },
     "execution_count": 25,
     "metadata": {},
     "output_type": "execute_result"
    }
   ],
   "source": [
    "tfidf_bi_text, tfidf_bi_norm, tfidf_bi_unique"
   ]
  },
  {
   "cell_type": "code",
   "execution_count": 26,
   "id": "59f6a0ce",
   "metadata": {},
   "outputs": [],
   "source": [
    "# Здесь похоронена попытка использовать AffinityPropagation\n",
    "\n",
    "# af = AffinityPropagation(damping=0.9, max_iter=5000, \n",
    "#                          convergence_iter=2500,\n",
    "#                          verbose=False, \n",
    "#                          random_state=1000).fit(tfidf_matrix_bi.toarray())\n",
    "\n",
    "#  cluster_centers_indices = af.cluster_centers_indices_\n",
    "# labels = af.labels_\n",
    "# n_clusters_ = len(cluster_centers_indices)\n",
    "\n",
    "# print(\"Estimated number of clusters: %d\" % n_clusters_)\n",
    "\n",
    "# print(cluster_centers_indices, labels)\n",
    "\n",
    "# data['clust'] = pd.Series(labels) "
   ]
  },
  {
   "cell_type": "code",
   "execution_count": 28,
   "id": "489a9d43",
   "metadata": {},
   "outputs": [],
   "source": [
    "#!pip install --upgrade threadpoolctl"
   ]
  },
  {
   "cell_type": "markdown",
   "id": "822f7739",
   "metadata": {},
   "source": [
    "## Шаг 3. Кластеризация"
   ]
  },
  {
   "cell_type": "markdown",
   "id": "1fdc3d13",
   "metadata": {},
   "source": [
    "Одна из самых сложный подзадач при задаче кластеризации -- это оптимальный подбор количества кластеров. Можно подбирать их на глаз, но мы постарались автоматизировать этот подход путем перебора и сравнения специальных метрик.\n",
    "Подробные описнаия использованных метрик можно найти [здесь, но на R](https://uc-r.github.io/kmeans_clustering#:~:text=The%20average%20silhouette%20method%20computes,of%20possible%20values%20for%20k.2) и [здесь](https://stackoverflow.com/questions/19197715/scikit-learn-k-means-elbow-criterion)."
   ]
  },
  {
   "cell_type": "code",
   "execution_count": null,
   "id": "0b0d4b9e",
   "metadata": {},
   "outputs": [],
   "source": [
    "import matplotlib.pyplot as plt\n",
    "from sklearn.metrics import silhouette_score"
   ]
  },
  {
   "cell_type": "code",
   "execution_count": 72,
   "id": "808d8f82",
   "metadata": {},
   "outputs": [
    {
     "data": {
      "image/png": "[encoded data removed]",
      "text/plain": [
       "<Figure size 640x480 with 1 Axes>"
      ]
     },
     "metadata": {},
     "output_type": "display_data"
    }
   ],
   "source": [
    "sse = {}\n",
    "for k in range(250, 400):\n",
    "    kmeans = KMeans(n_clusters=k, max_iter=1000, random_state=100).fit(tfidf_bi_text)\n",
    "    sse[k] = kmeans.inertia_ # Inertia: Sum of distances of samples to their closest cluster center\n",
    "plt.figure()\n",
    "plt.plot(list(sse.keys()), list(sse.values()))\n",
    "plt.xlabel(\"Number of cluster\")\n",
    "plt.ylabel(\"SSE\")\n",
    "plt.show()"
   ]
  },
  {
   "cell_type": "code",
   "execution_count": 90,
   "id": "fc15aed8",
   "metadata": {},
   "outputs": [],
   "source": [
    "silhouette_scores = pd.DataFrame(columns=['n_clusters', 'silhouette_score'])\n",
    "\n",
    "for k in range(250, 400):\n",
    "    kmeans = KMeans(n_clusters=k, max_iter=1000, random_state=100).fit(tfidf_bi_text)\n",
    "    label = kmeans.labels_\n",
    "    sil_coeff = silhouette_score(tfidf_bi_text, label, metric='euclidean')\n",
    "    silhouette_scores = silhouette_scores.append({'n_clusters': k, 'silhouette_score': sil_coeff}, ignore_index = True)"
   ]
  },
  {
   "cell_type": "code",
   "execution_count": 91,
   "id": "ad985976",
   "metadata": {},
   "outputs": [
    {
     "data": {
      "text/html": [
       "<div>\n",
       "<style scoped>\n",
       "    .dataframe tbody tr th:only-of-type {\n",
       "        vertical-align: middle;\n",
       "    }\n",
       "\n",
       "    .dataframe tbody tr th {\n",
       "        vertical-align: top;\n",
       "    }\n",
       "\n",
       "    .dataframe thead th {\n",
       "        text-align: right;\n",
       "    }\n",
       "</style>\n",
       "<table border=\"1\" class=\"dataframe\">\n",
       "  <thead>\n",
       "    <tr style=\"text-align: right;\">\n",
       "      <th></th>\n",
       "      <th>n_clusters</th>\n",
       "      <th>silhouette_score</th>\n",
       "    </tr>\n",
       "  </thead>\n",
       "  <tbody>\n",
       "    <tr>\n",
       "      <th>3</th>\n",
       "      <td>253.0</td>\n",
       "      <td>0.211583</td>\n",
       "    </tr>\n",
       "    <tr>\n",
       "      <th>12</th>\n",
       "      <td>262.0</td>\n",
       "      <td>0.209637</td>\n",
       "    </tr>\n",
       "    <tr>\n",
       "      <th>0</th>\n",
       "      <td>250.0</td>\n",
       "      <td>0.209364</td>\n",
       "    </tr>\n",
       "    <tr>\n",
       "      <th>8</th>\n",
       "      <td>258.0</td>\n",
       "      <td>0.208512</td>\n",
       "    </tr>\n",
       "    <tr>\n",
       "      <th>5</th>\n",
       "      <td>255.0</td>\n",
       "      <td>0.208389</td>\n",
       "    </tr>\n",
       "  </tbody>\n",
       "</table>\n",
       "</div>"
      ],
      "text/plain": [
       "    n_clusters  silhouette_score\n",
       "3        253.0          0.211583\n",
       "12       262.0          0.209637\n",
       "0        250.0          0.209364\n",
       "8        258.0          0.208512\n",
       "5        255.0          0.208389"
      ]
     },
     "execution_count": 91,
     "metadata": {},
     "output_type": "execute_result"
    }
   ],
   "source": [
    "silhouete_scores = silhouette_scores.sort_values(by='silhouette_score', ascending=False)\n",
    "silhouete_scores.head(5)"
   ]
  },
  {
   "cell_type": "markdown",
   "id": "ddfaf677",
   "metadata": {},
   "source": [
    "С помощью обоих метрик видим, что оптимальное количество кластеров равняется примерно 253 (на рисунке с `Elbow metrics` заметно колебание, которое выделяется на фоне плавной кривой, а также мера `silhouette_score` максимальна). Так как, у нас нет даже примерного представления о том, сколько кластеров в данных действительно есть, будем использовать полученное значение.\n"
   ]
  },
  {
   "cell_type": "code",
   "execution_count": 92,
   "id": "08211972",
   "metadata": {},
   "outputs": [],
   "source": [
    "num_clusters = 253\n",
    "kmeans = KMeans(n_clusters=num_clusters, max_iter=1000, random_state=100)\n",
    "\n",
    "kmeans_text = kmeans.fit(tfidf_bi_text)\n",
    "\n",
    "kmeans_norm = kmeans.fit(tfidf_bi_norm)\n",
    "kmeans_unique = kmeans.fit(tfidf_bi_unique)"
   ]
  },
  {
   "cell_type": "code",
   "execution_count": 93,
   "id": "c1ce2553",
   "metadata": {},
   "outputs": [],
   "source": [
    "def create_data(kmeans_, data, num_clusters):\n",
    "    dataF = pd.DataFrame(columns=[\"id\", \"text\", \"cluster_id\"])\n",
    "    dataF['id'] = data['id']\n",
    "    dataF['text'] = data['text']\n",
    "    dataF[\"cluster_id\"] = 0\n",
    "    \n",
    "    for cluster_id in range(num_clusters):\n",
    "        cluster_indices = np.where(kmeans_.labels_ == cluster_id)[0]\n",
    "        for idx in cluster_indices:\n",
    "            dataF[\"cluster_id\"][idx] = cluster_id + 1\n",
    "    dataF = dataF.sort_values(by='cluster_id')\n",
    "    dataF = dataF.reset_index(drop=True)\n",
    "    return dataF"
   ]
  },
  {
   "cell_type": "code",
   "execution_count": 94,
   "id": "161b0656",
   "metadata": {},
   "outputs": [],
   "source": [
    "kmeans_text_data =  create_data(kmeans_text, data, num_clusters)\n",
    "kmeans_norm_data = create_data(kmeans_norm, data, num_clusters)\n",
    "kmeans_unique_data = create_data(kmeans_unique, data, num_clusters)"
   ]
  },
  {
   "cell_type": "code",
   "execution_count": 98,
   "id": "c404c49b",
   "metadata": {},
   "outputs": [],
   "source": [
    "kmeans_text_data.to_csv('kmeans_text_data.csv')"
   ]
  },
  {
   "cell_type": "code",
   "execution_count": 99,
   "id": "1874ab38",
   "metadata": {},
   "outputs": [],
   "source": [
    "kmeans_norm_data.to_csv('kmeans_norm_data.csv')"
   ]
  },
  {
   "cell_type": "code",
   "execution_count": 100,
   "id": "c12b09de",
   "metadata": {},
   "outputs": [],
   "source": [
    "kmeans_unique_data.to_csv('kmeans_unique_data.csv')"
   ]
  },
  {
   "cell_type": "markdown",
   "id": "75a220e0",
   "metadata": {},
   "source": [
    "Таким образом, получены 3 списка кластеров."
   ]
  },
  {
   "cell_type": "markdown",
   "id": "8fd8b3c8",
   "metadata": {},
   "source": [
    "## Куда улучшаться?\n",
    "\n",
    "0. Разметить данные вручную для того, чтобы можно было проверить качество кластеризации\n",
    "1. Более аккуратная замена опечаток\n",
    "2. Использование другого алгоритма векоризации (например, `word2vec`)\n",
    "3. Использование других кластеризирующих алгоритмов. Снова можно попробовать использовать `Affinity Propogation` и другие более продвинутые способы кластеризации"
   ]
  }
 ],
 "metadata": {
  "kernelspec": {
   "display_name": "Python 3 (ipykernel)",
   "language": "python",
   "name": "python3"
  },
  "language_info": {
   "codemirror_mode": {
    "name": "ipython",
    "version": 3
   },
   "file_extension": ".py",
   "mimetype": "text/x-python",
   "name": "python",
   "nbconvert_exporter": "python",
   "pygments_lexer": "ipython3",
   "version": "3.9.13"
  }
 },
 "nbformat": 4,
 "nbformat_minor": 5
}
